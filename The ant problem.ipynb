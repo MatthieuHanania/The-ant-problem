{
 "cells": [
  {
   "cell_type": "markdown",
   "metadata": {},
   "source": [
    "# The ant problem\n",
    "by Matthieu Hanania\n",
    "\n",
    "This repository is the resolution of the exercice proposed in the [Graduate Data Scientist](https://optiver.com/working-at-optiver/career-opportunities/6902907002/) offer of Optiver.\n",
    "\n",
    "\n"
   ]
  },
  {
   "cell_type": "markdown",
   "metadata": {},
   "source": [
    "## Problem :\n",
    "An ant leaves its anthill in order to forage for food. It moves with the speed of 10cm per second, but it doesn’t know where to go, therefore every second it moves randomly 10cm directly north, south, east or west with equal probability."
   ]
  },
  {
   "cell_type": "code",
   "execution_count": 26,
   "metadata": {},
   "outputs": [],
   "source": [
    "import random\n",
    "\n",
    "# Here we define the global movement class for all ants, for each question, we will just modify the success_condition function \n",
    "\n",
    "class Anthill:\n",
    "    def __init__(self,nb_ants,max_seconds):\n",
    "        self.nb_ants = nb_ants\n",
    "        self.max_seconds = max_seconds\n",
    "\n",
    "    def move(self,success_condition):\n",
    "        movements = [(10,0),(-10,0),(0,10),(0,-10)]\n",
    "        total_times = []\n",
    "\n",
    "        for _ in range(self.nb_ants):\n",
    "            position_x,position_y = 0,0\n",
    "\n",
    "            for second in range(self.max_seconds):\n",
    "                move_x,move_y = random.choice(movements)\n",
    "\n",
    "                position_x+=move_x\n",
    "                position_y+=move_y\n",
    "\n",
    "                if success_condition(position_x,position_y):\n",
    "                    total_times.append(second)\n",
    "                    break\n",
    "                \n",
    "            else:\n",
    "                # We assume that at the end of the simulation, the ant reaches the food\n",
    "                total_times.append(second)\n",
    "            \n",
    "        # we return the mean time taken per ant to reach the food\n",
    "        return sum(total_times) / len(total_times)\n",
    "        "
   ]
  },
  {
   "cell_type": "markdown",
   "metadata": {
    "vscode": {
     "languageId": "plaintext"
    }
   },
   "source": [
    "#### __Question 1:__\n",
    "\n",
    "If the food is located on east-west lines 20cm to the north and 20cm to the south, as well as on north-south lines 20cm to the east and 20cm to the west from the anthill, how long will it take the ant to reach it on average?"
   ]
  },
  {
   "cell_type": "code",
   "execution_count": 32,
   "metadata": {},
   "outputs": [
    {
     "data": {
      "text/plain": [
       "3.5583"
      ]
     },
     "execution_count": 32,
     "metadata": {},
     "output_type": "execute_result"
    }
   ],
   "source": [
    "# The success condition here : x or y = 20 or -20\n",
    "\n",
    "def success_condition_20_cm(position_x,position_y):\n",
    "    return abs(position_x) == 20 or abs(position_y) == 20\n",
    "\n",
    "\n",
    "# We test the exercice with 10000 ants that have 10000 seconds \n",
    "anthill = Anthill(10000,10000)\n",
    "\n",
    "anthill.move(success_condition_20_cm)\n"
   ]
  },
  {
   "cell_type": "markdown",
   "metadata": {},
   "source": [
    "#### __Question 2:__\n",
    "\n",
    "What is the average time the ant will reach food if it is located only on a diagonal line passing through (10cm, 0cm) and (0cm, 10cm) points?"
   ]
  },
  {
   "cell_type": "code",
   "execution_count": 30,
   "metadata": {},
   "outputs": [
    {
     "data": {
      "text/plain": [
       "159.4393"
      ]
     },
     "execution_count": 30,
     "metadata": {},
     "output_type": "execute_result"
    }
   ],
   "source": [
    "# The success condition here : y = -x+10\n",
    "\n",
    "def success_condition_diagonal(position_x,position_y):\n",
    "    return position_y == -position_x +10\n",
    "\n",
    "\n",
    "# We test the exercice with 10000 ants that have 10000 seconds \n",
    "anthill = Anthill(10000,10000)\n",
    "\n",
    "anthill.move(success_condition_diagonal)"
   ]
  },
  {
   "cell_type": "markdown",
   "metadata": {},
   "source": [
    "#### __Question 3:__\n",
    "\n",
    "Can you write a program that comes up with an estimate of average time to find food for any closed boundary around the anthill? What would be the answer if food is located outside an area defined by ( (x – 2.5cm) / 30cm )² + ( (y – 2.5cm) / 40cm )² < 1 in coordinate system where the anthill is located at (x = 0cm, y = 0cm)?"
   ]
  },
  {
   "cell_type": "code",
   "execution_count": 33,
   "metadata": {},
   "outputs": [
    {
     "data": {
      "text/plain": [
       "12.9884"
      ]
     },
     "execution_count": 33,
     "metadata": {},
     "output_type": "execute_result"
    }
   ],
   "source": [
    "# The success condition here : ( (x – 2.5) / 30 )² + ( (y – 2.5) / 40 )² >= 1\n",
    "\n",
    "def success_condition_circle(position_x,position_y):\n",
    "    return ((position_x - 2.5) / 30 )**2 + ( (position_y - 2.5) / 40 )**2 >= 1\n",
    "\n",
    "\n",
    "# We test the exercice with 10000 ants that have 10000 seconds \n",
    "anthill = Anthill(10000,10000)\n",
    "\n",
    "anthill.move(success_condition_circle)"
   ]
  }
 ],
 "metadata": {
  "kernelspec": {
   "display_name": "Python 3",
   "language": "python",
   "name": "python3"
  },
  "language_info": {
   "codemirror_mode": {
    "name": "ipython",
    "version": 3
   },
   "file_extension": ".py",
   "mimetype": "text/x-python",
   "name": "python",
   "nbconvert_exporter": "python",
   "pygments_lexer": "ipython3",
   "version": "3.11.9"
  }
 },
 "nbformat": 4,
 "nbformat_minor": 2
}
